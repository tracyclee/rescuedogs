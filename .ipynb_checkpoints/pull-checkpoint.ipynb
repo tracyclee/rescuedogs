{
 "cells": [
  {
   "cell_type": "code",
   "execution_count": 3,
   "metadata": {
    "collapsed": true
   },
   "outputs": [],
   "source": [
    "import requests\n",
    "import json\n",
    "import pandas as pd"
   ]
  },
  {
   "cell_type": "code",
   "execution_count": 4,
   "metadata": {
    "collapsed": true
   },
   "outputs": [],
   "source": [
    "link = \"https://api.rescuegroups.org/http/v2.json\""
   ]
  },
  {
   "cell_type": "code",
   "execution_count": 5,
   "metadata": {
    "collapsed": true
   },
   "outputs": [],
   "source": [
    "api_key = 'ZJJi3YFv'"
   ]
  },
  {
   "cell_type": "code",
   "execution_count": 62,
   "metadata": {
    "collapsed": false
   },
   "outputs": [],
   "source": [
    "kept_fields = [u'animalActivityLevel',\"animalSizeUOM\", u'animalAdoptedDate',\n",
    "               u'animalAdoptionFee', u'animalAdoptionPending', u'animalAltered', u'animalAvailableDate',\n",
    "               u'animalBirthdate', u'animalBreed',  u'animalColor', u'animalColorDetails', u'animalDeclawed',\n",
    "               u'animalDescription', u'animalDescriptionPlain',  u'animalFound', u'animalFoundDate',  u'animalGeneralAge',\n",
    "               u'animalGeneralSizePotential',  u'animalHousetrained',  u'animalID',  u'animalIndoorOutdoor',  u'animalKillDate',\n",
    "               u'animalKillReason',  u'animalLocation',  u'animalLocationState', u'animalMicrochipped', u'animalMixedBreed',\n",
    "               u'animalName', u'animalNeedsFoster', u'animalNewPeople',   u'animalOKWithCats', u'animalOKWithDogs', \n",
    "               u'animalOKWithKids', u'animalOrgID', u'animalPictures', u'animalPrimaryBreed', u'animalRescueID',\n",
    "               u'animalSearchString', u'animalSecondaryBreed', u'animalSex', u'animalSizeCurrent', u'animalSizePotential',\n",
    "               u'animalSpecialneeds', u'animalSpecialneedsDescription', u'animalStatus', u'animalStatusID', u'animalSummary',\n",
    "               u'animalUpdatedDate', u'animalUptodate', u'animalUrl', u'animalVideos', u'fosterName',\n",
    "               u'locationState', u'locationUrl']"
   ]
  },
  {
   "cell_type": "code",
   "execution_count": 53,
   "metadata": {
    "collapsed": false
   },
   "outputs": [
    {
     "name": "stdout",
     "output_type": "stream",
     "text": [
      "1142\n",
      "{u'animalActivityLevel': u'Highly Active',\n",
      " u'animalAdoptedDate': u'8/7/2004',\n",
      " u'animalAdoptionFee': u'',\n",
      " u'animalAdoptionPending': u'No',\n",
      " u'animalAltered': u'',\n",
      " u'animalAvailableDate': u'',\n",
      " u'animalBirthdate': u'5/8/2004',\n",
      " u'animalBreed': u'Shetland Sheepdog Sheltie / Mixed',\n",
      " u'animalColor': u'',\n",
      " u'animalColorDetails': u'Mostly Black',\n",
      " u'animalDeclawed': u'No',\n",
      " u'animalDescription': u'<div class=\"rgDescription\">Male, smooth pup!</div>',\n",
      " u'animalDescriptionPlain': u'Male, smooth pup!',\n",
      " u'animalFound': u'No',\n",
      " u'animalFoundDate': u'',\n",
      " u'animalGeneralAge': u'Adult',\n",
      " u'animalGeneralSizePotential': u'',\n",
      " u'animalHousetrained': u'',\n",
      " u'animalID': u'1142',\n",
      " u'animalIndoorOutdoor': u'',\n",
      " u'animalKillDate': u'',\n",
      " u'animalKillReason': u'',\n",
      " u'animalLocation': u'20636',\n",
      " u'animalLocationState': u'MD',\n",
      " u'animalMicrochipped': u'',\n",
      " u'animalMixedBreed': u'Yes',\n",
      " u'animalName': u'Stymie',\n",
      " u'animalNeedsFoster': u'No',\n",
      " u'animalNewPeople': u'',\n",
      " u'animalOKWithCats': u'',\n",
      " u'animalOKWithDogs': u'Yes',\n",
      " u'animalOKWithKids': u'Yes',\n",
      " u'animalOrgID': u'16',\n",
      " u'animalPictures': [{u'fileNameFullsize': u'1462_350x251.jpg',\n",
      "                      u'fileNameThumbnail': u'1462_100x71.jpg',\n",
      "                      u'fileSize': u'28612',\n",
      "                      u'large': {u'fileSize': u'28612',\n",
      "                                 u'resolutionX': u'350',\n",
      "                                 u'resolutionY': u'251',\n",
      "                                 u'type': u'Large',\n",
      "                                 u'url': u'https://s3.amazonaws.com/filestore.rescuegroups.org/16/pictures/animals/1/1142/1462_350x251.jpg'},\n",
      "                      u'lastUpdated': u'8/9/2007 5:50 PM',\n",
      "                      u'mediaID': u'1462',\n",
      "                      u'mediaOrder': u'1',\n",
      "                      u'original': {u'fileSize': u'28612',\n",
      "                                    u'resolutionX': u'350',\n",
      "                                    u'resolutionY': u'251',\n",
      "                                    u'type': u'Original',\n",
      "                                    u'url': u'https://s3.amazonaws.com/filestore.rescuegroups.org/16/pictures/animals/1/1142/1462_350x251.jpg'},\n",
      "                      u'resolutionX': u'350',\n",
      "                      u'resolutionY': u'251',\n",
      "                      u'small': {u'fileSize': u'2929',\n",
      "                                 u'resolutionX': u'100',\n",
      "                                 u'resolutionY': u'71',\n",
      "                                 u'type': u'Small',\n",
      "                                 u'url': u'https://s3.amazonaws.com/filestore.rescuegroups.org/16/pictures/animals/1/1142/1462_100x71.jpg'},\n",
      "                      u'urlInsecureFullsize': u'http://s3.amazonaws.com/filestore.rescuegroups.org/16/pictures/animals/1/1142/1462_350x251.jpg',\n",
      "                      u'urlInsecureThumbnail': u'http://s3.amazonaws.com/filestore.rescuegroups.org/16/pictures/animals/1/1142/1462_100x71.jpg',\n",
      "                      u'urlSecureFullsize': u'https://s3.amazonaws.com/filestore.rescuegroups.org/16/pictures/animals/1/1142/1462_350x251.jpg',\n",
      "                      u'urlSecureThumbnail': u'https://s3.amazonaws.com/filestore.rescuegroups.org/16/pictures/animals/1/1142/1462_100x71.jpg'},\n",
      "                     {u'fileNameFullsize': u'1463_300x371.jpg',\n",
      "                      u'fileNameThumbnail': u'1463_100x123.jpg',\n",
      "                      u'fileSize': u'30045',\n",
      "                      u'large': {u'fileSize': u'30045',\n",
      "                                 u'resolutionX': u'300',\n",
      "                                 u'resolutionY': u'371',\n",
      "                                 u'type': u'Large',\n",
      "                                 u'url': u'https://s3.amazonaws.com/filestore.rescuegroups.org/16/pictures/animals/1/1142/1463_300x371.jpg'},\n",
      "                      u'lastUpdated': u'8/9/2007 5:50 PM',\n",
      "                      u'mediaID': u'1463',\n",
      "                      u'mediaOrder': u'2',\n",
      "                      u'original': {u'fileSize': u'30045',\n",
      "                                    u'resolutionX': u'300',\n",
      "                                    u'resolutionY': u'371',\n",
      "                                    u'type': u'Original',\n",
      "                                    u'url': u'https://s3.amazonaws.com/filestore.rescuegroups.org/16/pictures/animals/1/1142/1463_300x371.jpg'},\n",
      "                      u'resolutionX': u'300',\n",
      "                      u'resolutionY': u'371',\n",
      "                      u'small': {u'fileSize': u'3683',\n",
      "                                 u'resolutionX': u'100',\n",
      "                                 u'resolutionY': u'123',\n",
      "                                 u'type': u'Small',\n",
      "                                 u'url': u'https://s3.amazonaws.com/filestore.rescuegroups.org/16/pictures/animals/1/1142/1463_100x123.jpg'},\n",
      "                      u'urlInsecureFullsize': u'http://s3.amazonaws.com/filestore.rescuegroups.org/16/pictures/animals/1/1142/1463_300x371.jpg',\n",
      "                      u'urlInsecureThumbnail': u'http://s3.amazonaws.com/filestore.rescuegroups.org/16/pictures/animals/1/1142/1463_100x123.jpg',\n",
      "                      u'urlSecureFullsize': u'https://s3.amazonaws.com/filestore.rescuegroups.org/16/pictures/animals/1/1142/1463_300x371.jpg',\n",
      "                      u'urlSecureThumbnail': u'https://s3.amazonaws.com/filestore.rescuegroups.org/16/pictures/animals/1/1142/1463_100x123.jpg'}],\n",
      " u'animalPrimaryBreed': u'Shetland Sheepdog Sheltie',\n",
      " u'animalRescueID': u'',\n",
      " u'animalSearchString': u'Stymie  Mostly Black  Male   Mostly Black Dogs Shetland Sheepdog Sheltie / Mixeds',\n",
      " u'animalSecondaryBreed': u'',\n",
      " u'animalSex': u'Male',\n",
      " u'animalSizeCurrent': u'',\n",
      " u'animalSizePotential': u'',\n",
      " u'animalSizeUOM': u'Pounds',\n",
      " u'animalSpecialneeds': u'',\n",
      " u'animalSpecialneedsDescription': u'',\n",
      " u'animalStatus': u'Adopted',\n",
      " u'animalStatusID': u'3',\n",
      " u'animalSummary': u'',\n",
      " u'animalUpdatedDate': u'7/12/2010 8:21 AM',\n",
      " u'animalUptodate': u'',\n",
      " u'animalUrl': u'http://www.animalrelieffund.org/animals/detail?AnimalID=16',\n",
      " u'animalVideoUrls': [],\n",
      " u'animalVideos': [],\n",
      " u'fosterName': u'',\n",
      " u'locationState': u'',\n",
      " u'locationUrl': u''}\n"
     ]
    }
   ],
   "source": [
    "result = requests.post(link, json = {\"apikey\":api_key,\n",
    "    \"objectType\":\"animals\",\n",
    "    \"objectAction\":\"publicSearch\",\n",
    "    \"search\" :{\n",
    "        \"calcFoundRows\" : \"Yes\",\n",
    "        \"resultStart\": 0,\n",
    "        \"resultLimit\": 100,\n",
    "        \"resultSort\" : \"animalID\",\n",
    "        \"fields\" : kept_fields,\n",
    "        \"filters\": [{\n",
    "            \"fieldName\": \"animalSpecies\",\n",
    "            \"operation\": \"equals\",\n",
    "            \"criteria\": \"Dog\",\n",
    "            },\n",
    "                    {\n",
    "            \"fieldName\": \"animalSizeUOM\",\n",
    "            \"operation\": \"notequals\",\n",
    "            \"criteria\": \"Centimeters\",\n",
    "            }\n",
    "                   ]\n",
    "        }})\n",
    "\n",
    "result.json()['data']\n",
    "\n",
    "sample = []\n",
    "for animal, a_data in result.json()['data'].iteritems():\n",
    "    sample.append(a_data)\n",
    "    print\n",
    "    break\n",
    "    \n",
    "import pprint\n",
    "print animal\n",
    "pprint.pprint(a_data)"
   ]
  },
  {
   "cell_type": "code",
   "execution_count": 73,
   "metadata": {
    "collapsed": true
   },
   "outputs": [],
   "source": [
    "from os import path"
   ]
  },
  {
   "cell_type": "code",
   "execution_count": 90,
   "metadata": {
    "collapsed": false
   },
   "outputs": [],
   "source": [
    "myhead = sorted(a_data.keys())"
   ]
  },
  {
   "cell_type": "code",
   "execution_count": 92,
   "metadata": {
    "collapsed": false
   },
   "outputs": [
    {
     "data": {
      "text/plain": [
       "1643122"
      ]
     },
     "execution_count": 92,
     "metadata": {},
     "output_type": "execute_result"
    }
   ],
   "source": [
    "result.json()['foundRows']"
   ]
  },
  {
   "cell_type": "code",
   "execution_count": null,
   "metadata": {
    "collapsed": true
   },
   "outputs": [],
   "source": []
  },
  {
   "cell_type": "code",
   "execution_count": 99,
   "metadata": {
    "collapsed": true
   },
   "outputs": [],
   "source": [
    "import time"
   ]
  },
  {
   "cell_type": "code",
   "execution_count": null,
   "metadata": {
    "collapsed": false
   },
   "outputs": [
    {
     "name": "stdout",
     "output_type": "stream",
     "text": [
      "Up to batch 290. Last 10 took 690.41726017\n",
      "Up to batch 300. Last 10 took 2777.66873479\n",
      "Up to batch 310. Last 10 took 2726.059201\n",
      "Up to batch 320. Last 10 took 2906.10109019\n",
      "Up to batch 330. Last 10 took 2586.42038178\n",
      "Up to batch 340. Last 10 took 2482.48438907\n"
     ]
    }
   ],
   "source": [
    "# failed_batches = []\n",
    "batch_size = 2000\n",
    "\n",
    "ct = 1643122\n",
    "num_batches = (ct / batch_size) + 1 \n",
    "start = time.time()\n",
    "\n",
    "for i in range(287,num_batches):\n",
    "    if i % 10 == 0:\n",
    "        end = time.time()\n",
    "        print 'Up to batch %s. Last 10 took %s' % (i, end - start)\n",
    "        start = end\n",
    "        \n",
    "    result = requests.post(link, json = {\"apikey\":api_key,\n",
    "        \"objectType\":\"animals\",\n",
    "        \"objectAction\":\"publicSearch\",\n",
    "        \"search\" :{\n",
    "            \"calcFoundRows\" : \"Yes\",\n",
    "            \"resultStart\": i*batch_size,\n",
    "            \"resultLimit\": batch_size,\n",
    "            \"resultSort\" : \"animalID\",\n",
    "            \"fields\" : kept_fields,\n",
    "            \"filters\": [{\n",
    "                \"fieldName\": \"animalSpecies\",\n",
    "                \"operation\": \"equals\",\n",
    "                \"criteria\": \"Dog\",\n",
    "                },\n",
    "                        {\n",
    "                \"fieldName\": \"animalSizeUOM\",\n",
    "                \"operation\": \"notequals\",\n",
    "                \"criteria\": \"Centimeters\",\n",
    "                }\n",
    "                       ]\n",
    "            }})\n",
    "    \n",
    "    if result.status_code != 200 or result.json()['status']=='error':\n",
    "        failed_batches.append(result)\n",
    "    else:\n",
    "        mypath = path.expanduser('~/raw_dogs/%s.csv' % i)\n",
    "        with open(mypath, 'w+') as f:\n",
    "            spamWriter = csv.DictWriter(f, myhead, extrasaction='ignore')\n",
    "            spamWriter.writeheader()\n",
    "            for animal, a_data in result.json()['data'].iteritems():\n",
    "                for medium in ['Pictures', 'Videos']:\n",
    "                    p_sizes = [int(x.get('fileSize', 0)) for x in a_data.get('animal%s' % medium, [])]\n",
    "                    a_data['animalBiggest%s' % medium] = max(p_sizes) if p_sizes else 0\n",
    "                    a_data['animalNum%s' % medium] = len(p_sizes)\n",
    "                    try:\n",
    "                        a_data.pop('animal%s' % medium)\n",
    "                    except:\n",
    "                        pass\n",
    "                a_data = {k:v.encode('utf8') if isinstance(v, basestring) else v for k,v in a_data.iteritems()}\n",
    "                spamWriter.writerow(a_data)"
   ]
  },
  {
   "cell_type": "code",
   "execution_count": 110,
   "metadata": {
    "collapsed": false
   },
   "outputs": [
    {
     "data": {
      "text/plain": [
       "{u'message': u'Unexpected system error', u'status': u'error'}"
      ]
     },
     "execution_count": 110,
     "metadata": {},
     "output_type": "execute_result"
    }
   ],
   "source": [
    "result.json()"
   ]
  },
  {
   "cell_type": "code",
   "execution_count": null,
   "metadata": {
    "collapsed": true
   },
   "outputs": [],
   "source": []
  }
 ],
 "metadata": {
  "kernelspec": {
   "display_name": "Python 2",
   "language": "python",
   "name": "python2"
  },
  "language_info": {
   "codemirror_mode": {
    "name": "ipython",
    "version": 2
   },
   "file_extension": ".py",
   "mimetype": "text/x-python",
   "name": "python",
   "nbconvert_exporter": "python",
   "pygments_lexer": "ipython2",
   "version": "2.7.12"
  }
 },
 "nbformat": 4,
 "nbformat_minor": 0
}
